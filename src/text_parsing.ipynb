{
 "cells": [
  {
   "cell_type": "code",
   "execution_count": 21,
   "metadata": {},
   "outputs": [],
   "source": [
    "import re\n",
    "import itertools\n",
    "import pandas as pd\n",
    "import nltk\n",
    "import string\n",
    "from nltk.tokenize import RegexpTokenizer\n",
    "import pymorphy2\n",
    "from nltk.stem.snowball import SnowballStemmer"
   ]
  },
  {
   "cell_type": "code",
   "execution_count": 2,
   "metadata": {},
   "outputs": [],
   "source": [
    "with open('D:\\\\nltk-dost\\data\\\\avidreaders.ru__prestuplenie-i-nakazanie-dr-izd.txt', 'r', encoding=\"utf-8\") as file:\n",
    "    data = file.read().rstrip()"
   ]
  },
  {
   "cell_type": "code",
   "execution_count": 4,
   "metadata": {},
   "outputs": [],
   "source": [
    "def _parse_parts(text):\n",
    "    return re.split(r\"(Часть \\\\*[\\w]+\\\\*\\n)\", text)"
   ]
  },
  {
   "cell_type": "code",
   "execution_count": 5,
   "metadata": {},
   "outputs": [],
   "source": [
    "def _parse_chapters(text, part):\n",
    "    return [\n",
    "            {\n",
    "                \"part\": part,\n",
    "                \"chapter_id\": id_,\n",
    "                \"text\": chapter_text\n",
    "            }\n",
    "                for id_, chapter_text in enumerate(re.split(r\"(Глава [IVXLCDM])\", text))\n",
    "        ]"
   ]
  },
  {
   "cell_type": "code",
   "execution_count": 6,
   "metadata": {},
   "outputs": [],
   "source": [
    "def clust_text(data):\n",
    "    result = []\n",
    "    parts = _parse_parts(data)[1:][1::2]\n",
    "    for part_id, content in enumerate(parts):\n",
    "        parts_content = _parse_chapters(content, part_id)[1:][1::2]\n",
    "        for p_content in parts_content:\n",
    "            p_content[\"chapter_id\"] = int(p_content[\"chapter_id\"]/2)\n",
    "            p_content[\"text\"] = p_content[\"text\"].replace(\"\\n\", ' ')\n",
    "        result.append(parts_content)\n",
    "    return list(itertools.chain(*result))"
   ]
  },
  {
   "cell_type": "code",
   "execution_count": 7,
   "metadata": {},
   "outputs": [],
   "source": [
    "clust_text_list = clust_text(data)"
   ]
  },
  {
   "cell_type": "code",
   "execution_count": 8,
   "metadata": {},
   "outputs": [],
   "source": [
    "df_text = pd.DataFrame(clust_text_list)"
   ]
  },
  {
   "cell_type": "code",
   "execution_count": null,
   "metadata": {},
   "outputs": [],
   "source": [
    "df_text.head()"
   ]
  },
  {
   "cell_type": "code",
   "execution_count": 3,
   "metadata": {},
   "outputs": [
    {
     "name": "stderr",
     "output_type": "stream",
     "text": [
      "[nltk_data] Downloading package punkt to\n",
      "[nltk_data]     C:\\Users\\Marat\\AppData\\Roaming\\nltk_data...\n",
      "[nltk_data]   Package punkt is already up-to-date!\n",
      "[nltk_data] Downloading package stopwords to\n",
      "[nltk_data]     C:\\Users\\Marat\\AppData\\Roaming\\nltk_data...\n",
      "[nltk_data]   Package stopwords is already up-to-date!\n"
     ]
    }
   ],
   "source": [
    "nltk.download('punkt')\n",
    "nltk.download('stopwords')\n",
    "tokenizer = RegexpTokenizer(r'\\w+')\n",
    "stop_words = set(nltk.corpus.stopwords.words('russian'))"
   ]
  },
  {
   "cell_type": "code",
   "execution_count": null,
   "metadata": {},
   "outputs": [],
   "source": [
    "morph = pymorphy2.MorphAnalyzer()\n",
    "stemmer = SnowballStemmer(\"russian\")\n",
    "tokenizer = RegexpTokenizer(r'\\w+')\n",
    "stop_words = set(nltk.corpus.stopwords.words('russian'))"
   ]
  },
  {
   "cell_type": "code",
   "execution_count": 4,
   "metadata": {},
   "outputs": [],
   "source": [
    "def clear_tokenize_text(text):\n",
    "    tokens = tokenizer.tokenize(text)\n",
    "    return [word.lower() for word in tokens if word not in string.punctuation and not word.isspace() and word.lower() not in stop_words and word.isalpha()]\n",
    "    "
   ]
  },
  {
   "cell_type": "code",
   "execution_count": 19,
   "metadata": {},
   "outputs": [],
   "source": [
    "def lemmatize_stemmer(tokens, lemm=True, stem=False):\n",
    "    lemmas = tokens\n",
    "    if lemm:\n",
    "        lemmas = [morph.parse(word)[0].normal_form for word in tokens]\n",
    "    if stem:\n",
    "        return [stemmer.stem(word) for word in lemmas]\n",
    "    return lemmas"
   ]
  },
  {
   "cell_type": "code",
   "execution_count": 14,
   "metadata": {},
   "outputs": [],
   "source": [
    "df_text[\"text_clean_tokenized\"] = df_text[\"text\"].apply(lambda x: clear_tokenize_text(x)) "
   ]
  },
  {
   "cell_type": "code",
   "execution_count": 17,
   "metadata": {},
   "outputs": [],
   "source": [
    "df_text[\"text_lemm_stem\"] = df_text[\"text_clean_tokenized\"].apply(lambda x: lemmatize_stemmer(x, lemm=True, stem=True))\n",
    "df_text[\"text_stem\"] = df_text[\"text_clean_tokenized\"].apply(lambda x: lemmatize_stemmer(x, lemm=False, stem=True))\n",
    "df_text[\"text_lemm\"] = df_text[\"text_clean_tokenized\"].apply(lambda x: lemmatize_stemmer(x, lemm=True, stem=False))"
   ]
  },
  {
   "cell_type": "code",
   "execution_count": 21,
   "metadata": {},
   "outputs": [],
   "source": [
    "with open(\"../data/parsed_text.json\", \"w\", encoding=\"utf-8\") as file:\n",
    "    df_text.to_json(file, force_ascii=False)"
   ]
  },
  {
   "cell_type": "code",
   "execution_count": 69,
   "metadata": {},
   "outputs": [],
   "source": [
    "abs_freq = pd.DataFrame(list(itertools.chain(*df_text[\"text_lemm_stem\"].apply(list)))).value_counts()\n",
    "freq = abs_freq / abs_freq.sum()"
   ]
  },
  {
   "cell_type": "code",
   "execution_count": null,
   "metadata": {},
   "outputs": [],
   "source": []
  }
 ],
 "metadata": {
  "kernelspec": {
   "display_name": ".venv",
   "language": "python",
   "name": "python3"
  },
  "language_info": {
   "codemirror_mode": {
    "name": "ipython",
    "version": 3
   },
   "file_extension": ".py",
   "mimetype": "text/x-python",
   "name": "python",
   "nbconvert_exporter": "python",
   "pygments_lexer": "ipython3",
   "version": "3.9.13"
  }
 },
 "nbformat": 4,
 "nbformat_minor": 2
}
